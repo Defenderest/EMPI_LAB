{
  "nbformat": 4,
  "nbformat_minor": 0,
  "metadata": {
    "colab": {
      "provenance": [],
      "collapsed_sections": [
        "TAW5hu3r2Es9",
        "11a37h5L47zy"
      ],
      "authorship_tag": "ABX9TyNhLtHC1TnZz8/Jte6zXpit",
      "include_colab_link": true
    },
    "kernelspec": {
      "name": "python3",
      "display_name": "Python 3"
    },
    "language_info": {
      "name": "python"
    }
  },
  "cells": [
    {
      "cell_type": "markdown",
      "metadata": {
        "id": "view-in-github",
        "colab_type": "text"
      },
      "source": [
        "<a href=\"https://colab.research.google.com/github/Defenderest/EMPI_LAB/blob/main/%D0%9F%D0%B0%D1%86%D0%B5%D1%80%D0%B0_%D0%86%D0%B3%D0%BE%D1%80_6_1213_2(2)_%D0%9B%D0%B0%D0%B1%D0%BE%D1%80%D0%B0%D1%82%D0%BE%D1%80%D0%BD%D0%B0_%E2%84%963_%D0%95%D0%9C%D0%9F%D0%86.ipynb\" target=\"_parent\"><img src=\"https://colab.research.google.com/assets/colab-badge.svg\" alt=\"Open In Colab\"/></a>"
      ]
    },
    {
      "cell_type": "markdown",
      "source": [
        "#Лабораторна робота № 3\n",
        "Дисципліна «Емпіричні методи програмної інженерії»\n",
        "\n",
        "Лабораторна робота № 3 : «Основи Python»\n",
        "\n",
        "Виконав:\n",
        "студент гр. 6.1213-2 (2)\n",
        "\n",
        "Пацера Ігор Євгенійович\n",
        "\n",
        "Перевірила:\tВикладач\n",
        "\n",
        "Столярова Анастасія Валеріївна\n"
      ],
      "metadata": {
        "id": "XdXfKqc11b4h"
      }
    },
    {
      "cell_type": "markdown",
      "source": [
        "#Інсталюванння пакетів"
      ],
      "metadata": {
        "id": "k-BSMbVa22MU"
      }
    },
    {
      "cell_type": "code",
      "source": [
        "!pip install pycodestyle\n",
        "!pip install --index-url https://test.pypi.org/simple/ nbpep8\n"
      ],
      "metadata": {
        "colab": {
          "base_uri": "https://localhost:8080/"
        },
        "id": "6W0htxqx27Dt",
        "outputId": "47554252-e1e4-4ab1-8e91-50cb58f9fbe3"
      },
      "execution_count": null,
      "outputs": [
        {
          "output_type": "stream",
          "name": "stdout",
          "text": [
            "Collecting pycodestyle\n",
            "  Downloading pycodestyle-2.12.1-py2.py3-none-any.whl.metadata (4.5 kB)\n",
            "Downloading pycodestyle-2.12.1-py2.py3-none-any.whl (31 kB)\n",
            "Installing collected packages: pycodestyle\n",
            "Successfully installed pycodestyle-2.12.1\n",
            "Looking in indexes: https://test.pypi.org/simple/\n",
            "Collecting nbpep8\n",
            "  Downloading https://test-files.pythonhosted.org/packages/c1/07/6b91c986efe7c3adac9e2ec061037f0cc4307925819d37277c3802c2d117/nbpep8-0.0.15-py3-none-any.whl.metadata (1.6 kB)\n",
            "Downloading https://test-files.pythonhosted.org/packages/c1/07/6b91c986efe7c3adac9e2ec061037f0cc4307925819d37277c3802c2d117/nbpep8-0.0.15-py3-none-any.whl (3.2 kB)\n",
            "Installing collected packages: nbpep8\n",
            "Successfully installed nbpep8-0.0.15\n"
          ]
        }
      ]
    },
    {
      "cell_type": "markdown",
      "source": [
        "#Додавання бібліотек\n"
      ],
      "metadata": {
        "id": "47R9BODC39Td"
      }
    },
    {
      "cell_type": "code",
      "source": [
        "import random\n",
        "from itertools import permutations\n",
        "from nbpep8.nbpep8 import pep8\n"
      ],
      "metadata": {
        "id": "FWpR-fVz4E3k"
      },
      "execution_count": null,
      "outputs": []
    },
    {
      "cell_type": "markdown",
      "source": [
        "#Завдання №1\n",
        "\n",
        "Розробив функцію, яка приймає на вхід необмежену кількість\n",
        "списків довільної довжини та два іменовані параметри k та n.\n",
        "\n",
        "Вхід : test_list = [(4, 5, 5, 4), (5, 4, 3)], K = 5, N = 2\n",
        "\n",
        "Вихід : [(4, 5, 5, 4)]\n"
      ],
      "metadata": {
        "id": "TAW5hu3r2Es9"
      }
    },
    {
      "cell_type": "code",
      "source": [
        "def count_element_occurrence(lists, k, n):\n",
        "    return [lst for lst in lists if lst.count(k) == n]\n",
        "\n",
        "\n",
        "print(\"\\nПошук списків з N входженнями елемента K\")\n",
        "try:\n",
        "    test_lists = eval(input(\"Введіть список списків: \"))\n",
        "    k = eval(input(\"Введіть елемент K: \"))\n",
        "    n = int(input(\"Введіть кількість входжень N: \"))\n",
        "    result = count_element_occurrence(test_lists, k, n)\n",
        "    print(f\"\\nРезультат: {result}\")\n",
        "except Exception as e:\n",
        "    print(f\"Помилка: {e}\")\n",
        "pep8(_ih)"
      ],
      "metadata": {
        "colab": {
          "base_uri": "https://localhost:8080/"
        },
        "id": "4oYGrWWG2Hdk",
        "outputId": "da88bdcd-77a7-45cf-ac87-bd5b24f9477f"
      },
      "execution_count": null,
      "outputs": [
        {
          "output_type": "stream",
          "name": "stdout",
          "text": [
            "\n",
            "Пошук списків з N входженнями елемента K\n",
            "Введіть список списків:  [(4, 5, 5, 4), (5, 4, 3)]\n",
            "Введіть елемент K: 5\n",
            "Введіть кількість входжень N: 2\n",
            "\n",
            "Результат: [(4, 5, 5, 4)]\n",
            "\n"
          ]
        }
      ]
    },
    {
      "cell_type": "markdown",
      "source": [
        "#Завдання №2\n",
        "Розробив функцію, яка приймає список списків однакової довжини\n",
        "(двомірний масив) та параметр k. Функція сортує масив за заданим\n",
        "параметром k стовпцем. Використати lambda-функції.\n",
        "\n",
        "Вхід: [[1, 3, 3], [2, 1, 2], [3, 2, 1]]\n",
        "\n",
        "Вихід:\n",
        "\n",
        "Відсортовано за стовпцем 0, [[1, 3, 3], [2, 1, 2], [3, 2, 1]]\n",
        "\n",
        "Відсортовано за стовпцем 1, [[2, 1, 2], [3, 2, 1], [1, 3, 3]]\n",
        "\n",
        "Відсортовано за стовпцем 2, [[3, 2, 1], [2, 1, 2], [1, 3, 3]]"
      ],
      "metadata": {
        "id": "11a37h5L47zy"
      }
    },
    {
      "cell_type": "code",
      "source": [
        "def sort_2d_array(arr, k):\n",
        "    return sorted(arr, key=lambda x: x[k])\n",
        "\n",
        "\n",
        "try:\n",
        "    array = eval(input(\"Введіть двовимірний масив: \"))\n",
        "    k = eval(input(\"Введіть елемент K: \"))\n",
        "    sorted_array = sort_2d_array(array, k)\n",
        "    print(f\"Відсортовано за стовпцем {k}, {sorted_array}\")\n",
        "except Exception as e:\n",
        "    print(f\"Помилка: {e}\")\n",
        "pep8(_ih)"
      ],
      "metadata": {
        "colab": {
          "base_uri": "https://localhost:8080/"
        },
        "id": "rO27OTat5aD2",
        "outputId": "1477bfed-35b0-4ac0-d071-fcd78c9b45da"
      },
      "execution_count": null,
      "outputs": [
        {
          "output_type": "stream",
          "name": "stdout",
          "text": [
            "Введіть двовимірний масив: [[1, 3, 3], [2, 1, 2], [3, 2, 1]]\n",
            "Введіть елемент K: 1\n",
            "Відсортовано за стовпцем 1, [[2, 1, 2], [3, 2, 1], [1, 3, 3]]\n",
            "\n"
          ]
        }
      ]
    },
    {
      "cell_type": "markdown",
      "source": [
        "#Завдання №3\n",
        "Розробив функцію, яка два списки довільної довжини. Функція\n",
        "повертає всі можливі попарні комбінації елементів заданих списків без\n",
        "повторень. Використовувати функцію zip().\n",
        "\n",
        "Вхід: [\"a\",\"b\"], [1,2]\n",
        "\n",
        "Вихід: [[('a',1),('b',2)],[('a',2),('b',1)]].\n",
        "\n"
      ],
      "metadata": {
        "id": "ZAcqI8Xl7iNX"
      }
    },
    {
      "cell_type": "code",
      "source": [
        "def get_pairs_combinations(list1, list2):\n",
        "    result = []\n",
        "    for perm in permutations(list2):\n",
        "        result.append(list(zip(list1, perm)))\n",
        "    return result\n",
        "\n",
        "\n",
        "print(\"\\nКомбінації пар елементів двох списків\")\n",
        "try:\n",
        "    list1 = eval(input(\"Введіть перший список: \"))\n",
        "    list2 = eval(input(\"Введіть другий список: \"))\n",
        "    result = get_pairs_combinations(list1, list2)\n",
        "    print(f\"\\nРезультат: {result}\")\n",
        "except Exception as e:\n",
        "    print(f\"Помилка: {e}\")\n",
        "pep8(_ih)"
      ],
      "metadata": {
        "colab": {
          "base_uri": "https://localhost:8080/"
        },
        "id": "JVjGmdP07v1n",
        "outputId": "973729e3-3f82-4c26-c848-d473b4bfc726"
      },
      "execution_count": null,
      "outputs": [
        {
          "output_type": "stream",
          "name": "stdout",
          "text": [
            "\n",
            "Комбінації пар елементів двох списків\n",
            "Введіть перший список: [\"a\",\"b\"]\n",
            "Введіть другий список: [1,2]\n",
            "\n",
            "Результат: [[('a', 1), ('b', 2)], [('a', 2), ('b', 1)]]\n",
            "\n"
          ]
        }
      ]
    },
    {
      "cell_type": "markdown",
      "source": [
        "#Завдання №4\n",
        "Розробив функцію, яка приймає словник. Функція повертає\n",
        "відсортований список унікальних значень заданого словника.\n",
        "\n",
        "Вхід : {‘gfg’: [5, 6, 7, 8], ‘best’: [6, 12, 10, 8], ‘is’:\n",
        "[10, 11, 7, 5], ‘for’: [1, 2, 5]}\n",
        "\n",
        "Вихід : [1, 2, 5, 6, 7, 8, 10, 11, 12]\n",
        "\n"
      ],
      "metadata": {
        "id": "MW5Lfgr7_M7s"
      }
    },
    {
      "cell_type": "code",
      "source": [
        "def get_unique_sorted_values(dictionary):\n",
        "    unique_values = set()\n",
        "    for values in dictionary.values():\n",
        "        if isinstance(values, list):\n",
        "            unique_values.update(values)\n",
        "        else:\n",
        "            unique_values.add(values)\n",
        "    return sorted(list(unique_values))\n",
        "\n",
        "\n",
        "print(\"\\nУнікальні відсортовані значення словника\")\n",
        "try:\n",
        "    dictionary = eval(input(\"Введіть словник: \"))\n",
        "    result = get_unique_sorted_values(dictionary)\n",
        "    print(f\"\\nРезультат: {result}\")\n",
        "except Exception as e:\n",
        "    print(f\"Помилка: {e}\")\n",
        "pep8(_ih)"
      ],
      "metadata": {
        "colab": {
          "base_uri": "https://localhost:8080/"
        },
        "id": "y0BJWFuK_ZKI",
        "outputId": "ea71dcc8-68d8-4740-8cad-0789ad1109fb"
      },
      "execution_count": null,
      "outputs": [
        {
          "output_type": "stream",
          "name": "stdout",
          "text": [
            "\n",
            "Унікальні відсортовані значення словника\n",
            "Введіть словник: {\"gfg\": [5, 6, 7, 8], \"best\": [6, 12, 10, 8], \"is\": [10, 11, 7, 5], \"for\": [1, 2, 5]}\n",
            "\n",
            "Результат: [1, 2, 5, 6, 7, 8, 10, 11, 12]\n",
            "\n"
          ]
        }
      ]
    },
    {
      "cell_type": "markdown",
      "source": [
        "#Завдання 5\n",
        "Розробити функцію, яка приймає список, словник, параметр k.\n",
        "Функція повертає значення ключа k зі словника, якщо k є у списку.\n",
        "Вхід : test_list = [\"Gfg\", \"is\", \"Good\", \"for\", \"Geeks\"]\n",
        "\n",
        "test_dict = {\"Gfg\": 5, \"Best\": 6}\n",
        "\n",
        "K = \"Gfg\"\n",
        "\n",
        "Вихід : 5\n",
        "\n"
      ],
      "metadata": {
        "id": "bbuhkUnEBT9x"
      }
    },
    {
      "cell_type": "code",
      "source": [
        "def get_key_value_if_exists(test_list, test_dict, k):\n",
        "    return test_dict.get(k) if k in test_list else None\n",
        "\n",
        "\n",
        "print(\"\\nПошук значення за ключем\")\n",
        "try:\n",
        "    test_list = eval(input(\"Введіть список: \"))\n",
        "    test_dict = eval(input(\"Введіть словник: \"))\n",
        "    k = input(\"Введіть ключ K: \")\n",
        "    result = get_key_value_if_exists(test_list, test_dict, k)\n",
        "    print(f\"\\nРезультат: {result}\")\n",
        "except Exception as e:\n",
        "    print(f\"Помилка: {e}\")\n",
        "pep8(_ih)"
      ],
      "metadata": {
        "colab": {
          "base_uri": "https://localhost:8080/"
        },
        "id": "jpG_RdZ2BeGX",
        "outputId": "c04bb380-f46d-425a-da3d-10f140ccd507"
      },
      "execution_count": null,
      "outputs": [
        {
          "output_type": "stream",
          "name": "stdout",
          "text": [
            "\n",
            "Пошук значення за ключем\n",
            "Введіть список: [\"Gfg\", \"is\", \"Good\", \"for\", \"Geeks\"]\n",
            "Введіть словник: {\"Gfg\": 5, \"Best\": 6}\n",
            "Введіть ключ K: Gfg\n",
            "\n",
            "Результат: 5\n",
            "\n"
          ]
        }
      ]
    },
    {
      "cell_type": "markdown",
      "source": [
        "#Завдання №6\n",
        "Розробити функція, яка приймає словник, параметр k. Функція\n",
        "повертає словник, у якому видалені всі пари “ключ-значення”, де значення\n",
        "більші за k.\n",
        "\n",
        "Вхід : test_dict = {'Gfg': 3, 'is': 7, 'best': 10, 'for': 6, 'geeks': 'CS'}\n",
        "\n",
        "K = 7\n",
        "\n",
        "Вихід : {'Gfg' : 3, 'for' : 6, 'geeks' : 'CS'}\n",
        "\n",
        "Вхід : test_dict = {‘Gfg’ : 3, ‘is’ : 7, ‘best’ : 10, ‘for’ :\n",
        "6, ‘geeks’ : ‘CS’}\n",
        "\n",
        "K = 1\n",
        "\n",
        "Вихід : {'geeks' : 'CS'}\n"
      ],
      "metadata": {
        "id": "eTRzbw90C0BX"
      }
    },
    {
      "cell_type": "code",
      "source": [
        "def filter_dict_by_value(test_dict, k):\n",
        "    return {key: value for key, value in test_dict.items()\n",
        "            if not isinstance(value, (int, float)) or value <= k}\n",
        "\n",
        "\n",
        "print(\"\\nФільтрація словника за значенням\")\n",
        "try:\n",
        "    test_dict = eval(input(\"Введіть словник: \"))\n",
        "    k = float(input(\"Введіть значення K: \"))\n",
        "    result = filter_dict_by_value(test_dict, k)\n",
        "    print(f\"\\nРезультат: {result}\")\n",
        "except Exception as e:\n",
        "    print(f\"Помилка: {e}\")\n",
        "pep8(_ih)"
      ],
      "metadata": {
        "colab": {
          "base_uri": "https://localhost:8080/"
        },
        "id": "G5T7O89VDNkg",
        "outputId": "ad683e56-9b23-4853-dbc5-19199d8ef284"
      },
      "execution_count": null,
      "outputs": [
        {
          "output_type": "stream",
          "name": "stdout",
          "text": [
            "\n",
            "Фільтрація словника за значенням\n",
            "Введіть словник: {'Gfg': 3, 'is': 7, 'best': 10, 'for': 6, 'geeks': 'CS'}\n",
            "Введіть значення K: 7\n",
            "\n",
            "Результат: {'Gfg': 3, 'is': 7, 'for': 6, 'geeks': 'CS'}\n",
            "\n"
          ]
        }
      ]
    }
  ]
}